{
 "cells": [
  {
   "cell_type": "markdown",
   "id": "819d07ed",
   "metadata": {},
   "source": [
    "Everything below follows from the [EconML User Guide](https://econml.azurewebsites.net/spec/api.html)."
   ]
  },
  {
   "cell_type": "markdown",
   "id": "af35fd9e",
   "metadata": {},
   "source": [
    "# Prelude: Why Heterogeneous Treatment Effects?\n",
    "What are the typical use cases of estimating heterogeneous treatment effects?\n",
    "1. Customer targeting -- we want to _personalize_ our interventions (e.g. determine whom to send pushes to).\n",
    "2. Personalized pricing -- we want to estimate personalized price elasticities, and set prices differently for different users.\n",
    "3. Learning Click-Through-Rates (CTRs). This is _not_ a substitute for running multiple A/B tests, but rather a complementary analysis."
   ]
  },
  {
   "cell_type": "markdown",
   "id": "23343849",
   "metadata": {},
   "source": [
    "# Problem Setup and API Design\n",
    "We want to estimate the conditional average treatment effect (CATE). In the discrete case:\n",
    "\n",
    "$$ \\tau(t_0, t_1, x) = E[Y(t_1) - Y(t_0)|X = x] $$\n",
    "\n",
    "And in the case of a continuous treatment, like price:\n",
    "\n",
    "$$ \\partial \\tau (t, x) = E[\\nabla_t Y(t) | X = x] $$\n",
    "\n",
    "For Econ ML, we'll assume we have data of the form\n",
    "\n",
    "$$ {Y_i(T_i), T_i, X_i, W_i, Z_i} $$\n",
    "\n",
    "where\n",
    "* $ Y_i(T_i) $ is the observed outcome;\n",
    "* $ T_i $ is the treatment;\n",
    "* $ X_i $ are the covariates used for heterogeneity;\n",
    "* $ W_i $ are other observable covariates used as controls;\n",
    "* $ Z_i $ are instruments that affect the treatment, but don't affect the outcome except through the treatment."
   ]
  },
  {
   "cell_type": "markdown",
   "id": "19895067",
   "metadata": {},
   "source": [
    "## API\n",
    "Each `Estimator` class will have the following main methods:\n",
    "* `fit`; which estimates the counterfactual model from data;\n",
    "* `effect`; which estimates the discrete heterogeneous treatment effect between two treatment points;\n",
    "* `marginal_effect`; which estimates the continuous heterogeneous marginal effect around a base treatment point;\n",
    "* `effect_interval` & `marginal_effect_interval`; which compute confidence intervals when explicitly called for."
   ]
  },
  {
   "cell_type": "markdown",
   "id": "beb7fc02",
   "metadata": {},
   "source": [
    "# Example API Use on Toy Data (Not Working)"
   ]
  },
  {
   "cell_type": "code",
   "execution_count": 14,
   "id": "b8b29bc6",
   "metadata": {},
   "outputs": [],
   "source": [
    "# Helper imports\n",
    "import numpy as np\n",
    "import matplotlib.pyplot as plt\n",
    "import matplotlib\n",
    "%matplotlib inline"
   ]
  },
  {
   "cell_type": "markdown",
   "id": "0c8fdc27",
   "metadata": {},
   "source": [
    "## Generate Data"
   ]
  },
  {
   "cell_type": "code",
   "execution_count": 1,
   "id": "a623460d",
   "metadata": {},
   "outputs": [],
   "source": [
    "import numpy as np\n",
    "\n",
    "# Instance parameters\n",
    "n_controls = 100\n",
    "n_instruments = 1\n",
    "n_features = 1 \n",
    "n_treatments = 1\n",
    "alpha = np.random.normal(size=(n_controls, 1))\n",
    "beta = np.random.normal(size=(n_instruments, 1))\n",
    "gamma = np.random.normal(size=(n_treatments, 1))\n",
    "delta = np.random.normal(size=(n_treatments, 1))\n",
    "zeta = np.random.normal(size=(n_controls, 1))\n",
    "\n",
    "n_samples = 1000\n",
    "W = np.random.normal(size=(n_samples, n_controls))\n",
    "Z = np.random.normal(size=(n_samples, n_instruments))\n",
    "X = np.random.normal(size=(n_samples, n_features))\n",
    "eta = np.random.normal(size=(n_samples, n_treatments))\n",
    "epsilon = np.random.normal(size=(n_samples, 1))\n",
    "T = np.dot(W, alpha) + np.dot(Z, beta) + eta\n",
    "y = np.dot(T**2, gamma) + np.dot(np.multiply(T, X), delta) + np.dot(W, zeta) + epsilon"
   ]
  },
  {
   "cell_type": "markdown",
   "id": "19b692f3",
   "metadata": {},
   "source": [
    "## Fit Basic Causal Model"
   ]
  },
  {
   "cell_type": "code",
   "execution_count": 15,
   "id": "b8a879d8",
   "metadata": {},
   "outputs": [],
   "source": [
    "from econml._cate_estimator import BaseCateEstimator\n",
    "from econml.orf import DMLOrthoForest"
   ]
  },
  {
   "cell_type": "code",
   "execution_count": 18,
   "id": "cf83bab7",
   "metadata": {},
   "outputs": [],
   "source": [
    "cfest = DMLOrthoForest()\n",
    "# cfest.fit(y, T, X=X, W=W, inference='bootstrap')"
   ]
  },
  {
   "cell_type": "markdown",
   "id": "91bd339c",
   "metadata": {},
   "source": [
    "NOTE! The above doesn't work. Need to go through specific examples with orthogonal CATE estimators (tomorrow)."
   ]
  },
  {
   "cell_type": "markdown",
   "id": "0d1ae7cb",
   "metadata": {},
   "source": [
    "# Forest Based Estimators\n",
    "Based on [EconML User Guide: Forest Based Estimators](https://econml.azurewebsites.net/spec/estimation/forest.html#orthoforestuserguide). EconML provides three forest-based estimation methods:\n",
    "* Orthogonal Random Forest Estimator\n",
    "* Forest Double Machine Learning Estimator (estimating an ML model for the outcome and an ML model for the treatment)\n",
    "* Forest Doubly Robust Estimator\n",
    "\n",
    "Recall that the main point of these methods is to estimate very flexible non-linear models of the heterogeneous treatment effect. Running OLS is undesirable in this situation because you will have to estimate heterogeneity by introducing lots of interactions, which OLS doesn't handle well (even worse if you're estimating a logit), and even then, the interactions may be misspecified (e.g. if interaction is nonlinear).\n",
    "\n",
    "Moving beyond this book definition: maybe I can think of specific instances in which nonlinear interactions will happen..."
   ]
  },
  {
   "cell_type": "markdown",
   "id": "6e8071a1",
   "metadata": {},
   "source": [
    "## Forest Learners Examples\n",
    "See [Forest Learners Example Notebook](https://github.com/microsoft/EconML/blob/main/notebooks/ForestLearners%20Basic%20Example.ipynb)."
   ]
  },
  {
   "cell_type": "code",
   "execution_count": 2,
   "id": "005708d9",
   "metadata": {},
   "outputs": [],
   "source": [
    "import numpy as np\n",
    "import scipy.special\n",
    "np.random.seed(123)\n",
    "n = 2000\n",
    "p = 10\n",
    "X = np.random.normal(size=(n, p))\n",
    "true_propensity = lambda x: .4 + .2 * (x[:, 0] > 0)\n",
    "true_effect = lambda x: (x[:, 0] * (x[:, 0] > 0))\n",
    "true_conf = lambda x: x[:, 1] + np.clip(x[:, 2], - np.inf, 0)\n",
    "T = np.random.binomial(1, true_propensity(X))\n",
    "Y =  true_effect(X) * T + true_conf(X) + np.random.normal(size=(n,))"
   ]
  },
  {
   "cell_type": "markdown",
   "id": "1c9c9e7a",
   "metadata": {},
   "source": [
    "## First Stage Nuisance Models"
   ]
  },
  {
   "cell_type": "code",
   "execution_count": 4,
   "id": "9cbb228e",
   "metadata": {},
   "outputs": [],
   "source": [
    "from econml.sklearn_extensions.model_selection import GridSearchCVList\n",
    "from sklearn.linear_model import Lasso, LogisticRegression\n",
    "from sklearn.ensemble import RandomForestRegressor, GradientBoostingRegressor\n",
    "from sklearn.ensemble import RandomForestClassifier, GradientBoostingClassifier\n",
    "from sklearn.base import clone\n",
    "from econml.sklearn_extensions.linear_model import WeightedLasso\n",
    "\n",
    "def first_stage_reg():\n",
    "    return GridSearchCVList([Lasso(),\n",
    "                             RandomForestRegressor(n_estimators=100, random_state=123),\n",
    "                             GradientBoostingRegressor(random_state=123)],\n",
    "                             param_grid_list=[{'alpha': [.001, .01, .1, 1, 10]},\n",
    "                                               {'max_depth': [3, None],\n",
    "                                               'min_samples_leaf': [10, 50]},\n",
    "                                              {'n_estimators': [50, 100],\n",
    "                                               'max_depth': [3],\n",
    "                                               'min_samples_leaf': [10, 30]}],\n",
    "                             cv=5,\n",
    "                             scoring='neg_mean_squared_error')\n",
    "\n",
    "def first_stage_clf():\n",
    "    return GridSearchCVList([LogisticRegression(),\n",
    "                             RandomForestClassifier(n_estimators=100, random_state=123),\n",
    "                             GradientBoostingClassifier(random_state=123)],\n",
    "                             param_grid_list=[{'C': [0.01, .1, 1, 10, 100]},\n",
    "                                              {'max_depth': [3, 5],\n",
    "                                               'min_samples_leaf': [10, 50]},\n",
    "                                              {'n_estimators': [50, 100],\n",
    "                                               'max_depth': [3],\n",
    "                                               'min_samples_leaf': [10, 30]}],\n",
    "                             cv=5,\n",
    "                             scoring='neg_mean_squared_error')\n",
    "\n",
    "def final_stage():\n",
    "    return GridSearchCVList([WeightedLasso(),\n",
    "                             RandomForestRegressor(n_estimators=100, random_state=123)],\n",
    "                             param_grid_list=[{'alpha': [.001, .01, .1, 1, 10]},\n",
    "                                              {'max_depth': [3, 5],\n",
    "                                               'min_samples_leaf': [10, 50]}],\n",
    "                             cv=5,\n",
    "                             scoring='neg_mean_squared_error')"
   ]
  },
  {
   "cell_type": "code",
   "execution_count": 5,
   "id": "80edcfae",
   "metadata": {},
   "outputs": [
    {
     "data": {
      "text/plain": [
       "GradientBoostingRegressor(min_samples_leaf=30, n_estimators=50,\n",
       "                          random_state=123)"
      ]
     },
     "execution_count": 5,
     "metadata": {},
     "output_type": "execute_result"
    }
   ],
   "source": [
    "model_y = clone(first_stage_reg().fit(X, Y).best_estimator_)\n",
    "model_y"
   ]
  },
  {
   "cell_type": "code",
   "execution_count": 6,
   "id": "80185c6d",
   "metadata": {},
   "outputs": [
    {
     "data": {
      "text/plain": [
       "RandomForestClassifier(max_depth=3, min_samples_leaf=10, random_state=123)"
      ]
     },
     "execution_count": 6,
     "metadata": {},
     "output_type": "execute_result"
    }
   ],
   "source": [
    "model_t = clone(first_stage_clf().fit(X, T).best_estimator_)\n",
    "model_t"
   ]
  },
  {
   "cell_type": "markdown",
   "id": "69f1d38e",
   "metadata": {},
   "source": [
    "## DML Estimators"
   ]
  },
  {
   "cell_type": "code",
   "execution_count": 7,
   "id": "f15f09bb",
   "metadata": {},
   "outputs": [
    {
     "name": "stderr",
     "output_type": "stream",
     "text": [
      "Function get_feature_names is deprecated; get_feature_names is deprecated in 1.0 and will be removed in 1.2. Please use get_feature_names_out instead.\n",
      "Function get_feature_names is deprecated; get_feature_names is deprecated in 1.0 and will be removed in 1.2. Please use get_feature_names_out instead.\n",
      "Function get_feature_names is deprecated; get_feature_names is deprecated in 1.0 and will be removed in 1.2. Please use get_feature_names_out instead.\n",
      "Function get_feature_names is deprecated; get_feature_names is deprecated in 1.0 and will be removed in 1.2. Please use get_feature_names_out instead.\n",
      "Function get_feature_names is deprecated; get_feature_names is deprecated in 1.0 and will be removed in 1.2. Please use get_feature_names_out instead.\n",
      "Function get_feature_names is deprecated; get_feature_names is deprecated in 1.0 and will be removed in 1.2. Please use get_feature_names_out instead.\n",
      "Function get_feature_names is deprecated; get_feature_names is deprecated in 1.0 and will be removed in 1.2. Please use get_feature_names_out instead.\n",
      "Function get_feature_names is deprecated; get_feature_names is deprecated in 1.0 and will be removed in 1.2. Please use get_feature_names_out instead.\n",
      "Function get_feature_names is deprecated; get_feature_names is deprecated in 1.0 and will be removed in 1.2. Please use get_feature_names_out instead.\n",
      "Function get_feature_names is deprecated; get_feature_names is deprecated in 1.0 and will be removed in 1.2. Please use get_feature_names_out instead.\n",
      "Function get_feature_names is deprecated; get_feature_names is deprecated in 1.0 and will be removed in 1.2. Please use get_feature_names_out instead.\n",
      "Function get_feature_names is deprecated; get_feature_names is deprecated in 1.0 and will be removed in 1.2. Please use get_feature_names_out instead.\n",
      "Function get_feature_names is deprecated; get_feature_names is deprecated in 1.0 and will be removed in 1.2. Please use get_feature_names_out instead.\n",
      "Function get_feature_names is deprecated; get_feature_names is deprecated in 1.0 and will be removed in 1.2. Please use get_feature_names_out instead.\n"
     ]
    },
    {
     "data": {
      "text/plain": [
       "<econml.dml.causal_forest.CausalForestDML at 0x7f78e53cf880>"
      ]
     },
     "execution_count": 7,
     "metadata": {},
     "output_type": "execute_result"
    }
   ],
   "source": [
    "from econml.dml import CausalForestDML\n",
    "from sklearn.ensemble import RandomForestRegressor, RandomForestClassifier\n",
    "from sklearn.ensemble import GradientBoostingRegressor, GradientBoostingClassifier\n",
    "from sklearn.dummy import DummyRegressor, DummyClassifier\n",
    "\n",
    "n_samples, n_features = X.shape\n",
    "subsample_fr_ = (n_samples/2)**(1-1/(2*n_features+2))/(n_samples/2)\n",
    "est = CausalForestDML(model_y=model_y,\n",
    "                      model_t=model_t,\n",
    "                      discrete_treatment=True,\n",
    "                      cv=3,\n",
    "                      n_estimators=4000,\n",
    "                      random_state=123)\n",
    "est.tune(Y, T, X=X).fit(Y, T, X=X, cache_values=True)"
   ]
  },
  {
   "cell_type": "code",
   "execution_count": 8,
   "id": "ea3a4dba",
   "metadata": {},
   "outputs": [
    {
     "name": "stderr",
     "output_type": "stream",
     "text": [
      "'normalize' was deprecated in version 1.0 and will be removed in 1.2. Please leave the normalize parameter to its default value to silence this warning. The default behavior of this estimator is to not do any normalization. If normalization is needed please use sklearn.preprocessing.StandardScaler instead.\n",
      "'normalize' was deprecated in version 1.0 and will be removed in 1.2. Please leave the normalize parameter to its default value to silence this warning. The default behavior of this estimator is to not do any normalization. If normalization is needed please use sklearn.preprocessing.StandardScaler instead.\n",
      "'normalize' was deprecated in version 1.0 and will be removed in 1.2. Please leave the normalize parameter to its default value to silence this warning. The default behavior of this estimator is to not do any normalization. If normalization is needed please use sklearn.preprocessing.StandardScaler instead.\n",
      "'normalize' was deprecated in version 1.0 and will be removed in 1.2. Please leave the normalize parameter to its default value to silence this warning. The default behavior of this estimator is to not do any normalization. If normalization is needed please use sklearn.preprocessing.StandardScaler instead.\n",
      "'normalize' was deprecated in version 1.0 and will be removed in 1.2. Please leave the normalize parameter to its default value to silence this warning. The default behavior of this estimator is to not do any normalization. If normalization is needed please use sklearn.preprocessing.StandardScaler instead.\n",
      "'normalize' was deprecated in version 1.0 and will be removed in 1.2. Please leave the normalize parameter to its default value to silence this warning. The default behavior of this estimator is to not do any normalization. If normalization is needed please use sklearn.preprocessing.StandardScaler instead.\n",
      "'normalize' was deprecated in version 1.0 and will be removed in 1.2. Please leave the normalize parameter to its default value to silence this warning. The default behavior of this estimator is to not do any normalization. If normalization is needed please use sklearn.preprocessing.StandardScaler instead.\n",
      "'normalize' was deprecated in version 1.0 and will be removed in 1.2. Please leave the normalize parameter to its default value to silence this warning. The default behavior of this estimator is to not do any normalization. If normalization is needed please use sklearn.preprocessing.StandardScaler instead.\n",
      "'normalize' was deprecated in version 1.0 and will be removed in 1.2. Please leave the normalize parameter to its default value to silence this warning. The default behavior of this estimator is to not do any normalization. If normalization is needed please use sklearn.preprocessing.StandardScaler instead.\n",
      "'normalize' was deprecated in version 1.0 and will be removed in 1.2. Please leave the normalize parameter to its default value to silence this warning. The default behavior of this estimator is to not do any normalization. If normalization is needed please use sklearn.preprocessing.StandardScaler instead.\n",
      "'normalize' was deprecated in version 1.0 and will be removed in 1.2. Please leave the normalize parameter to its default value to silence this warning. The default behavior of this estimator is to not do any normalization. If normalization is needed please use sklearn.preprocessing.StandardScaler instead.\n",
      "'normalize' was deprecated in version 1.0 and will be removed in 1.2. Please leave the normalize parameter to its default value to silence this warning. The default behavior of this estimator is to not do any normalization. If normalization is needed please use sklearn.preprocessing.StandardScaler instead.\n",
      "'normalize' was deprecated in version 1.0 and will be removed in 1.2. Please leave the normalize parameter to its default value to silence this warning. The default behavior of this estimator is to not do any normalization. If normalization is needed please use sklearn.preprocessing.StandardScaler instead.\n",
      "'normalize' was deprecated in version 1.0 and will be removed in 1.2. Please leave the normalize parameter to its default value to silence this warning. The default behavior of this estimator is to not do any normalization. If normalization is needed please use sklearn.preprocessing.StandardScaler instead.\n",
      "'normalize' was deprecated in version 1.0 and will be removed in 1.2. Please leave the normalize parameter to its default value to silence this warning. The default behavior of this estimator is to not do any normalization. If normalization is needed please use sklearn.preprocessing.StandardScaler instead.\n",
      "'normalize' was deprecated in version 1.0 and will be removed in 1.2. Please leave the normalize parameter to its default value to silence this warning. The default behavior of this estimator is to not do any normalization. If normalization is needed please use sklearn.preprocessing.StandardScaler instead.\n",
      "'normalize' was deprecated in version 1.0 and will be removed in 1.2. Please leave the normalize parameter to its default value to silence this warning. The default behavior of this estimator is to not do any normalization. If normalization is needed please use sklearn.preprocessing.StandardScaler instead.\n",
      "'normalize' was deprecated in version 1.0 and will be removed in 1.2. Please leave the normalize parameter to its default value to silence this warning. The default behavior of this estimator is to not do any normalization. If normalization is needed please use sklearn.preprocessing.StandardScaler instead.\n",
      "'normalize' was deprecated in version 1.0 and will be removed in 1.2. Please leave the normalize parameter to its default value to silence this warning. The default behavior of this estimator is to not do any normalization. If normalization is needed please use sklearn.preprocessing.StandardScaler instead.\n",
      "'normalize' was deprecated in version 1.0 and will be removed in 1.2. Please leave the normalize parameter to its default value to silence this warning. The default behavior of this estimator is to not do any normalization. If normalization is needed please use sklearn.preprocessing.StandardScaler instead.\n",
      "'normalize' was deprecated in version 1.0 and will be removed in 1.2. Please leave the normalize parameter to its default value to silence this warning. The default behavior of this estimator is to not do any normalization. If normalization is needed please use sklearn.preprocessing.StandardScaler instead.\n",
      "'normalize' was deprecated in version 1.0 and will be removed in 1.2. Please leave the normalize parameter to its default value to silence this warning. The default behavior of this estimator is to not do any normalization. If normalization is needed please use sklearn.preprocessing.StandardScaler instead.\n",
      "'normalize' was deprecated in version 1.0 and will be removed in 1.2. Please leave the normalize parameter to its default value to silence this warning. The default behavior of this estimator is to not do any normalization. If normalization is needed please use sklearn.preprocessing.StandardScaler instead.\n",
      "'normalize' was deprecated in version 1.0 and will be removed in 1.2. Please leave the normalize parameter to its default value to silence this warning. The default behavior of this estimator is to not do any normalization. If normalization is needed please use sklearn.preprocessing.StandardScaler instead.\n",
      "'normalize' was deprecated in version 1.0 and will be removed in 1.2. Please leave the normalize parameter to its default value to silence this warning. The default behavior of this estimator is to not do any normalization. If normalization is needed please use sklearn.preprocessing.StandardScaler instead.\n",
      "'normalize' was deprecated in version 1.0 and will be removed in 1.2. Please leave the normalize parameter to its default value to silence this warning. The default behavior of this estimator is to not do any normalization. If normalization is needed please use sklearn.preprocessing.StandardScaler instead.\n",
      "Function get_feature_names is deprecated; get_feature_names is deprecated in 1.0 and will be removed in 1.2. Please use get_feature_names_out instead.\n"
     ]
    },
    {
     "data": {
      "text/plain": [
       "<econml.dml.dml.NonParamDML at 0x7f78e59870a0>"
      ]
     },
     "execution_count": 8,
     "metadata": {},
     "output_type": "execute_result"
    }
   ],
   "source": [
    "from econml.dml import NonParamDML\n",
    "est2 = NonParamDML(model_y=model_y,\n",
    "                   model_t=model_t,\n",
    "                   cv=3,\n",
    "                   discrete_treatment=True,\n",
    "                   model_final=final_stage())\n",
    "est2.fit(Y, T, X=X)"
   ]
  },
  {
   "cell_type": "code",
   "execution_count": 9,
   "id": "01b6434e",
   "metadata": {},
   "outputs": [],
   "source": [
    "X_test = np.zeros((100, p))\n",
    "X_test[:, 0] = np.linspace(-2, 2, 100)"
   ]
  },
  {
   "cell_type": "code",
   "execution_count": 10,
   "id": "9388d8de",
   "metadata": {},
   "outputs": [],
   "source": [
    "pred = est.effect(X_test)\n",
    "lb, ub = est.effect_interval(X_test, alpha=0.01)"
   ]
  },
  {
   "cell_type": "code",
   "execution_count": 11,
   "id": "f16d8eb4",
   "metadata": {},
   "outputs": [],
   "source": [
    "pred2 = est2.effect(X_test)"
   ]
  },
  {
   "cell_type": "code",
   "execution_count": 15,
   "id": "b766211e",
   "metadata": {},
   "outputs": [
    {
     "data": {
      "image/png": "[encoded data removed]",
      "text/plain": [
       "<Figure size 1080x360 with 1 Axes>"
      ]
     },
     "metadata": {
      "needs_background": "light"
     },
     "output_type": "display_data"
    }
   ],
   "source": [
    "plt.figure(figsize=(15, 5))\n",
    "plt.subplot(1, 2, 1)\n",
    "plt.plot(X_test[:, 0], true_effect(X_test), '--')\n",
    "plt.plot(X_test[:, 0], pred2, label='nonparamdml')\n",
    "plt.plot(X_test[:, 0], pred, label='forestdml (causal forest)')\n",
    "plt.fill_between(X_test[:, 0], lb, ub, alpha=.4, label='honestrf_ci')\n",
    "plt.legend()\n",
    "plt.show()"
   ]
  },
  {
   "cell_type": "code",
   "execution_count": null,
   "id": "3e4d4034",
   "metadata": {},
   "outputs": [],
   "source": []
  }
 ],
 "metadata": {
  "kernelspec": {
   "display_name": "Python 3 (ipykernel)",
   "language": "python",
   "name": "python3"
  },
  "language_info": {
   "codemirror_mode": {
    "name": "ipython",
    "version": 3
   },
   "file_extension": ".py",
   "mimetype": "text/x-python",
   "name": "python",
   "nbconvert_exporter": "python",
   "pygments_lexer": "ipython3",
   "version": "3.8.10"
  },
  "toc": {
   "base_numbering": 1,
   "nav_menu": {},
   "number_sections": true,
   "sideBar": true,
   "skip_h1_title": false,
   "title_cell": "Table of Contents",
   "title_sidebar": "Contents",
   "toc_cell": false,
   "toc_position": {
    "height": "calc(100% - 180px)",
    "left": "10px",
    "top": "150px",
    "width": "425px"
   },
   "toc_section_display": true,
   "toc_window_display": true
  }
 },
 "nbformat": 4,
 "nbformat_minor": 5
}
