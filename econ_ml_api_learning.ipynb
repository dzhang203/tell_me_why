{
 "cells": [
  {
   "cell_type": "markdown",
   "id": "af35fd9e",
   "metadata": {},
   "source": [
    "# Prelude: Why Heterogeneous Treatment Effects?\n",
    "What are the typical use cases of estimating heterogeneous treatment effects?\n",
    "1. Customer targeting -- we want to _personalize_ our interventions (e.g. determine whom to send pushes to).\n",
    "2. Personalized pricing -- we want to estimate personalized price elasticities, and set prices differently for different users.\n",
    "3. Learning Click-Through-Rates (CTRs). This is _not_ a substitute for running multiple A/B tests, but rather a complementary analysis."
   ]
  },
  {
   "cell_type": "markdown",
   "id": "23343849",
   "metadata": {},
   "source": [
    "# Problem Setup and API Design\n",
    "We want to estimate the conditional average treatment effect (CATE). In the discrete case:\n",
    "\n",
    "$$ \\tau(t_0, t_1, x) = E[Y(t_1) - Y(t_0)|X = x] $$\n",
    "\n",
    "And in the case of a continuous treatment, like price:\n",
    "\n",
    "$$ \\partial \\tau (t, x) = E[\\nabla_t Y(t) | X = x] $$\n",
    "\n",
    "For Econ ML, we'll assume we have data of the form\n",
    "\n",
    "$$ {Y_i(T_i), T_i, X_i, W_i, Z_i} $$\n",
    "\n",
    "where\n",
    "* $ Y_i(T_i) $ is the observed outcome;\n",
    "* $ T_i $ is the treatment;\n",
    "* $ X_i $ are the covariates used for heterogeneity;\n",
    "* $ W_i $ are other observable covariates used as controls;\n",
    "* $ Z_i $ are instruments that affect the treatment, but don't affect the outcome except through the treatment."
   ]
  },
  {
   "cell_type": "markdown",
   "id": "19895067",
   "metadata": {},
   "source": [
    "## API\n",
    "Each `Estimator` class will have the following main methods:\n",
    "* `fit`; which estimates the counterfactual model from data;\n",
    "* `effect`; which estimates the discrete heterogeneous treatment effect between two treatment points;\n",
    "* `marginal_effect`; which estimates the continuous heterogeneous marginal effect around a base treatment point;\n",
    "* `effect_interval` & `marginal_effect_interval`; which compute confidence intervals when explicitly called for."
   ]
  },
  {
   "cell_type": "markdown",
   "id": "beb7fc02",
   "metadata": {},
   "source": [
    "# Example API Use on Toy Data"
   ]
  },
  {
   "cell_type": "markdown",
   "id": "0c8fdc27",
   "metadata": {},
   "source": [
    "## Generate Data"
   ]
  },
  {
   "cell_type": "code",
   "execution_count": 1,
   "id": "a623460d",
   "metadata": {},
   "outputs": [],
   "source": [
    "import numpy as np\n",
    "\n",
    "# Instance parameters\n",
    "n_controls = 100\n",
    "n_instruments = 1\n",
    "n_features = 1 \n",
    "n_treatments = 1\n",
    "alpha = np.random.normal(size=(n_controls, 1))\n",
    "beta = np.random.normal(size=(n_instruments, 1))\n",
    "gamma = np.random.normal(size=(n_treatments, 1))\n",
    "delta = np.random.normal(size=(n_treatments, 1))\n",
    "zeta = np.random.normal(size=(n_controls, 1))\n",
    "\n",
    "n_samples = 1000\n",
    "W = np.random.normal(size=(n_samples, n_controls))\n",
    "Z = np.random.normal(size=(n_samples, n_instruments))\n",
    "X = np.random.normal(size=(n_samples, n_features))\n",
    "eta = np.random.normal(size=(n_samples, n_treatments))\n",
    "epsilon = np.random.normal(size=(n_samples, 1))\n",
    "T = np.dot(W, alpha) + np.dot(Z, beta) + eta\n",
    "y = np.dot(T**2, gamma) + np.dot(np.multiply(T, X), delta) + np.dot(W, zeta) + epsilon"
   ]
  },
  {
   "cell_type": "markdown",
   "id": "19b692f3",
   "metadata": {},
   "source": [
    "## Fit Basic Causal Model"
   ]
  },
  {
   "cell_type": "code",
   "execution_count": 15,
   "id": "b8a879d8",
   "metadata": {},
   "outputs": [],
   "source": [
    "from econml._cate_estimator import BaseCateEstimator\n",
    "from econml.orf import DMLOrthoForest"
   ]
  },
  {
   "cell_type": "code",
   "execution_count": 18,
   "id": "cf83bab7",
   "metadata": {},
   "outputs": [],
   "source": [
    "cfest = DMLOrthoForest()\n",
    "# cfest.fit(y, T, X=X, W=W, inference='bootstrap')"
   ]
  },
  {
   "cell_type": "markdown",
   "id": "91bd339c",
   "metadata": {},
   "source": [
    "NOTE! The above doesn't work. Need to go through specific examples with orthogonal CATE estimators (tomorrow)."
   ]
  },
  {
   "cell_type": "code",
   "execution_count": null,
   "id": "9388d8de",
   "metadata": {},
   "outputs": [],
   "source": []
  }
 ],
 "metadata": {
  "kernelspec": {
   "display_name": "Python 3 (ipykernel)",
   "language": "python",
   "name": "python3"
  },
  "language_info": {
   "codemirror_mode": {
    "name": "ipython",
    "version": 3
   },
   "file_extension": ".py",
   "mimetype": "text/x-python",
   "name": "python",
   "nbconvert_exporter": "python",
   "pygments_lexer": "ipython3",
   "version": "3.8.10"
  },
  "toc": {
   "base_numbering": 1,
   "nav_menu": {},
   "number_sections": true,
   "sideBar": true,
   "skip_h1_title": false,
   "title_cell": "Table of Contents",
   "title_sidebar": "Contents",
   "toc_cell": false,
   "toc_position": {
    "height": "calc(100% - 180px)",
    "left": "10px",
    "top": "150px",
    "width": "425px"
   },
   "toc_section_display": true,
   "toc_window_display": true
  }
 },
 "nbformat": 4,
 "nbformat_minor": 5
}
