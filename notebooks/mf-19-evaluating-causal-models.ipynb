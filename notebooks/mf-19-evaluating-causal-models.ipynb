{
 "cells": [
  {
   "cell_type": "markdown",
   "id": "b309fd76",
   "metadata": {
    "toc": true
   },
   "source": [
    "<h1>Table of Contents<span class=\"tocSkip\"></span></h1>\n",
    "<div class=\"toc\"><ul class=\"toc-item\"><li><span><a href=\"#Imports\" data-toc-modified-id=\"Imports-1\"><span class=\"toc-item-num\">1&nbsp;&nbsp;</span>Imports</a></span></li><li><span><a href=\"#Intro\" data-toc-modified-id=\"Intro-2\"><span class=\"toc-item-num\">2&nbsp;&nbsp;</span>Intro</a></span><ul class=\"toc-item\"><li><span><a href=\"#Evaluating-Causal-Models\" data-toc-modified-id=\"Evaluating-Causal-Models-2.1\"><span class=\"toc-item-num\">2.1&nbsp;&nbsp;</span>Evaluating Causal Models</a></span></li><li><span><a href=\"#One-Weird-Trick:-Aggregate-on-$x$\" data-toc-modified-id=\"One-Weird-Trick:-Aggregate-on-$x$-2.2\"><span class=\"toc-item-num\">2.2&nbsp;&nbsp;</span>One Weird Trick: Aggregate on $x$</a></span></li></ul></li><li><span><a href=\"#Fitting-Models\" data-toc-modified-id=\"Fitting-Models-3\"><span class=\"toc-item-num\">3&nbsp;&nbsp;</span>Fitting Models</a></span></li><li><span><a href=\"#Predictions\" data-toc-modified-id=\"Predictions-4\"><span class=\"toc-item-num\">4&nbsp;&nbsp;</span>Predictions</a></span></li><li><span><a href=\"#Misc-Thoughts\" data-toc-modified-id=\"Misc-Thoughts-5\"><span class=\"toc-item-num\">5&nbsp;&nbsp;</span>Misc Thoughts</a></span></li></ul></div>"
   ]
  },
  {
   "cell_type": "markdown",
   "id": "514a00b6",
   "metadata": {},
   "source": [
    "@dzhang203\n",
    "2022-05\n",
    "\n",
    "[Book Ref: Chapter 19](https://matheusfacure.github.io/python-causality-handbook/19-Evaluating-Causal-Models.html)"
   ]
  },
  {
   "cell_type": "markdown",
   "id": "739e75c6",
   "metadata": {},
   "source": [
    "# Imports"
   ]
  },
  {
   "cell_type": "code",
   "execution_count": 1,
   "id": "e6600859",
   "metadata": {},
   "outputs": [
    {
     "name": "stderr",
     "output_type": "stream",
     "text": [
      "/home/daz/hello_world/tell_me_why/env/lib/python3.8/site-packages/statsmodels/compat/pandas.py:65: FutureWarning: pandas.Int64Index is deprecated and will be removed from pandas in a future version. Use pandas.Index with the appropriate dtype instead.\n",
      "  from pandas import Int64Index as NumericIndex\n"
     ]
    }
   ],
   "source": [
    "import pandas as pd\n",
    "import numpy as np\n",
    "from matplotlib import pyplot as plt\n",
    "import seaborn as sns\n",
    "from toolz import curry\n",
    "\n",
    "import statsmodels.formula.api as smf\n",
    "import statsmodels.api as sm\n",
    "\n",
    "from sklearn.ensemble import GradientBoostingRegressor\n",
    "\n",
    "import warnings\n",
    "warnings.filterwarnings(\"ignore\")"
   ]
  },
  {
   "cell_type": "markdown",
   "id": "1a185750",
   "metadata": {},
   "source": [
    "# Intro"
   ]
  },
  {
   "cell_type": "markdown",
   "id": "d87e8c41",
   "metadata": {},
   "source": [
    "## Evaluating Causal Models\n",
    "The goal of a simple causal model is to understand the effect of some treatment $t$ on some outcome $y$, conditional on covariates $x$, i.e. $\\frac{\\partial y}{\\partial t}(t|x)$.\n",
    "\n",
    "How do we know that a causal model is effectively capturing that true derivative? In academic settings and learning exercises (like this one!), we can generate synthetic data from some DGP where we _know_ the real $\\frac{\\partial y}{\\partial t}(t|x)$--by generating multiple counterfactual outcomes for the same $x$--and see how well our estimated $\\hat{\\frac{\\partial y}{\\partial t}}(t|x)$ predicts the true treatment effects.\n",
    "\n",
    "However, in reality, we won't have different $y$'s for the same $x$ at different intervention levels $t$."
   ]
  },
  {
   "cell_type": "markdown",
   "id": "ca493c62",
   "metadata": {},
   "source": [
    "## One Weird Trick: Aggregate on $x$\n",
    "If $x$ is atomic, then you're never going to have different $y$'s for the same $x$ at different intervention levels $t$. But if you condition on $x$ that includes multiple observation units, then you'll actually be able to observe $\\frac{\\partial y}{\\partial t}(t|x)$!\n",
    "\n",
    "Note that this is only going to be possible if the variation in $t|x$ is actually exogenous. (Note to self: if it's not, maybe estimate a model to orthogonalize it? Or, manually extract out the random (wiggle) component?)"
   ]
  },
  {
   "cell_type": "markdown",
   "id": "58c364bf",
   "metadata": {},
   "source": [
    "# Fitting Models"
   ]
  },
  {
   "cell_type": "markdown",
   "id": "02491a84",
   "metadata": {},
   "source": [
    "We load data from [github:matheusfacure/python-causality-handbook/data](https://github.com/matheusfacure/python-causality-handbook/tree/master/causal-inference-for-the-brave-and-true/data):"
   ]
  },
  {
   "cell_type": "code",
   "execution_count": 2,
   "id": "e21df0ba",
   "metadata": {},
   "outputs": [
    {
     "name": "stdout",
     "output_type": "stream",
     "text": [
      "(10000, 5)\n",
      "(5000, 5)\n"
     ]
    },
    {
     "data": {
      "text/html": [
       "<div>\n",
       "<style scoped>\n",
       "    .dataframe tbody tr th:only-of-type {\n",
       "        vertical-align: middle;\n",
       "    }\n",
       "\n",
       "    .dataframe tbody tr th {\n",
       "        vertical-align: top;\n",
       "    }\n",
       "\n",
       "    .dataframe thead th {\n",
       "        text-align: right;\n",
       "    }\n",
       "</style>\n",
       "<table border=\"1\" class=\"dataframe\">\n",
       "  <thead>\n",
       "    <tr style=\"text-align: right;\">\n",
       "      <th></th>\n",
       "      <th>temp</th>\n",
       "      <th>weekday</th>\n",
       "      <th>cost</th>\n",
       "      <th>price</th>\n",
       "      <th>sales</th>\n",
       "    </tr>\n",
       "  </thead>\n",
       "  <tbody>\n",
       "    <tr>\n",
       "      <th>0</th>\n",
       "      <td>25.8</td>\n",
       "      <td>1</td>\n",
       "      <td>0.3</td>\n",
       "      <td>7</td>\n",
       "      <td>230</td>\n",
       "    </tr>\n",
       "    <tr>\n",
       "      <th>1</th>\n",
       "      <td>22.7</td>\n",
       "      <td>3</td>\n",
       "      <td>0.5</td>\n",
       "      <td>4</td>\n",
       "      <td>190</td>\n",
       "    </tr>\n",
       "    <tr>\n",
       "      <th>2</th>\n",
       "      <td>33.7</td>\n",
       "      <td>7</td>\n",
       "      <td>1.0</td>\n",
       "      <td>5</td>\n",
       "      <td>237</td>\n",
       "    </tr>\n",
       "    <tr>\n",
       "      <th>3</th>\n",
       "      <td>23.0</td>\n",
       "      <td>4</td>\n",
       "      <td>0.5</td>\n",
       "      <td>5</td>\n",
       "      <td>193</td>\n",
       "    </tr>\n",
       "    <tr>\n",
       "      <th>4</th>\n",
       "      <td>24.4</td>\n",
       "      <td>1</td>\n",
       "      <td>1.0</td>\n",
       "      <td>3</td>\n",
       "      <td>252</td>\n",
       "    </tr>\n",
       "  </tbody>\n",
       "</table>\n",
       "</div>"
      ],
      "text/plain": [
       "   temp  weekday  cost  price  sales\n",
       "0  25.8        1   0.3      7    230\n",
       "1  22.7        3   0.5      4    190\n",
       "2  33.7        7   1.0      5    237\n",
       "3  23.0        4   0.5      5    193\n",
       "4  24.4        1   1.0      3    252"
      ]
     },
     "execution_count": 2,
     "metadata": {},
     "output_type": "execute_result"
    }
   ],
   "source": [
    "prices = pd.read_csv('../data/ice_cream_sales.csv')  # loads non-exogenous data\n",
    "prices_exog = pd.read_csv('../data/ice_cream_sales_rnd.csv')  # loads exogenous (DGP'd) data\n",
    "print(prices.shape)\n",
    "print(prices_exog.shape)\n",
    "prices_exog.head()\n"
   ]
  },
  {
   "cell_type": "markdown",
   "id": "ac5b7543",
   "metadata": {},
   "source": [
    "The first model we'll train will be a linear regression with interactions so that elasticity can vary between units:\n",
    "\n",
    "$$ sales_i = \\beta_0 + \\beta_1 price_i + \\beta_2 X_i + \\beta_3 X_i price_i + \\epsilon_i $$\n",
    "\n",
    "After fitting this model, we'll be able to make elasticity predictions:\n",
    "\n",
    "$$ \\hat{ \\frac{\\partial sales}{\\partial price}}(price_i, X_i) = \\hat{\\beta_2} + \\hat{\\beta_3} X_i $$"
   ]
  },
  {
   "cell_type": "markdown",
   "id": "c6b74f23",
   "metadata": {},
   "source": [
    "Refer to [statsmodels formulas examples](https://www.statsmodels.org/stable/example_formulas.html) if needed; below, the \\* operator also includes the individual columns that were multiplied together. "
   ]
  },
  {
   "cell_type": "code",
   "execution_count": 3,
   "id": "9447734d",
   "metadata": {},
   "outputs": [],
   "source": [
    "m1 = smf.ols(\"sales ~ price*temp + price*C(weekday) + price*temp\", data=prices).fit()"
   ]
  },
  {
   "cell_type": "markdown",
   "id": "f155f6af",
   "metadata": {},
   "source": [
    "Next, we'll train a fully nonparametrics, predicted machine learning model:\n",
    "\n",
    "$$ sales_i = G(price_i, X_i) + \\epsilon_i $$"
   ]
  },
  {
   "cell_type": "code",
   "execution_count": 5,
   "id": "b36d24a7",
   "metadata": {},
   "outputs": [
    {
     "data": {
      "text/plain": [
       "GradientBoostingRegressor()"
      ]
     },
     "execution_count": 5,
     "metadata": {},
     "output_type": "execute_result"
    }
   ],
   "source": [
    "X = [\n",
    "    'temp',\n",
    "    'weekday',\n",
    "    'cost',\n",
    "    'price'\n",
    "]\n",
    "y = 'sales'\n",
    "\n",
    "np.random.seed(1)\n",
    "m2 = GradientBoostingRegressor()\n",
    "m2.fit(prices[X], prices[y])"
   ]
  },
  {
   "cell_type": "markdown",
   "id": "549af5f0",
   "metadata": {},
   "source": [
    "One check on the model is to computed its $R^2$ using `.score()`. If $R^2$ doesn't just drop a bit, but rather falls off a cliff, on the test data, then we've probably overfit:"
   ]
  },
  {
   "cell_type": "code",
   "execution_count": 6,
   "id": "e65889de",
   "metadata": {},
   "outputs": [
    {
     "name": "stdout",
     "output_type": "stream",
     "text": [
      "Train Score: 0.9251704824568053\n",
      "Test Score: 0.7711074163447711\n"
     ]
    }
   ],
   "source": [
    "print('Train Score:', m2.score(prices[X], prices[y]))\n",
    "print('Test Score:', m2.score(prices_exog[X], prices_exog[y]))"
   ]
  },
  {
   "cell_type": "markdown",
   "id": "ee715b67",
   "metadata": {},
   "source": [
    "# Predictions\n",
    "We're going to look at the estimated marginal effects using an approximation:\n",
    "\n",
    "$$ \\frac{\\partial y}{\\partial price}(price, X) \\approx \\frac{y(price + h, X) - y(price, X)}{h} $$\n",
    "\n",
    "Just so we have everything in one place, we'll add the predicted marginal effects to a single dataframe."
   ]
  },
  {
   "cell_type": "code",
   "execution_count": 36,
   "id": "60bc916d",
   "metadata": {},
   "outputs": [
    {
     "data": {
      "text/html": [
       "<div>\n",
       "<style scoped>\n",
       "    .dataframe tbody tr th:only-of-type {\n",
       "        vertical-align: middle;\n",
       "    }\n",
       "\n",
       "    .dataframe tbody tr th {\n",
       "        vertical-align: top;\n",
       "    }\n",
       "\n",
       "    .dataframe thead th {\n",
       "        text-align: right;\n",
       "    }\n",
       "</style>\n",
       "<table border=\"1\" class=\"dataframe\">\n",
       "  <thead>\n",
       "    <tr style=\"text-align: right;\">\n",
       "      <th></th>\n",
       "      <th>temp</th>\n",
       "      <th>weekday</th>\n",
       "      <th>cost</th>\n",
       "      <th>price</th>\n",
       "      <th>sales</th>\n",
       "      <th>ols_slope_pred</th>\n",
       "      <th>ml_slope_pred</th>\n",
       "      <th>random_slope_pred</th>\n",
       "    </tr>\n",
       "  </thead>\n",
       "  <tbody>\n",
       "    <tr>\n",
       "      <th>0</th>\n",
       "      <td>25.8</td>\n",
       "      <td>1</td>\n",
       "      <td>0.3</td>\n",
       "      <td>7</td>\n",
       "      <td>230</td>\n",
       "      <td>-13.556769</td>\n",
       "      <td>-8.756083</td>\n",
       "      <td>0.696469</td>\n",
       "    </tr>\n",
       "    <tr>\n",
       "      <th>1</th>\n",
       "      <td>22.7</td>\n",
       "      <td>3</td>\n",
       "      <td>0.5</td>\n",
       "      <td>4</td>\n",
       "      <td>190</td>\n",
       "      <td>1.222003</td>\n",
       "      <td>-3.962999</td>\n",
       "      <td>0.286139</td>\n",
       "    </tr>\n",
       "    <tr>\n",
       "      <th>2</th>\n",
       "      <td>33.7</td>\n",
       "      <td>7</td>\n",
       "      <td>1.0</td>\n",
       "      <td>5</td>\n",
       "      <td>237</td>\n",
       "      <td>-16.658933</td>\n",
       "      <td>-6.897218</td>\n",
       "      <td>0.226851</td>\n",
       "    </tr>\n",
       "    <tr>\n",
       "      <th>3</th>\n",
       "      <td>23.0</td>\n",
       "      <td>4</td>\n",
       "      <td>0.5</td>\n",
       "      <td>5</td>\n",
       "      <td>193</td>\n",
       "      <td>0.646474</td>\n",
       "      <td>-2.416491</td>\n",
       "      <td>0.551315</td>\n",
       "    </tr>\n",
       "    <tr>\n",
       "      <th>4</th>\n",
       "      <td>24.4</td>\n",
       "      <td>1</td>\n",
       "      <td>1.0</td>\n",
       "      <td>3</td>\n",
       "      <td>252</td>\n",
       "      <td>-13.013002</td>\n",
       "      <td>-4.191300</td>\n",
       "      <td>0.719469</td>\n",
       "    </tr>\n",
       "  </tbody>\n",
       "</table>\n",
       "</div>"
      ],
      "text/plain": [
       "   temp  weekday  cost  price  sales  ols_slope_pred  ml_slope_pred  \\\n",
       "0  25.8        1   0.3      7    230      -13.556769      -8.756083   \n",
       "1  22.7        3   0.5      4    190        1.222003      -3.962999   \n",
       "2  33.7        7   1.0      5    237      -16.658933      -6.897218   \n",
       "3  23.0        4   0.5      5    193        0.646474      -2.416491   \n",
       "4  24.4        1   1.0      3    252      -13.013002      -4.191300   \n",
       "\n",
       "   random_slope_pred  \n",
       "0           0.696469  \n",
       "1           0.286139  \n",
       "2           0.226851  \n",
       "3           0.551315  \n",
       "4           0.719469  "
      ]
     },
     "execution_count": 36,
     "metadata": {},
     "output_type": "execute_result"
    }
   ],
   "source": [
    "def predict_marginal_effect(model, price_df, h=2.0):\n",
    "    return (model.predict(price_df.assign(price=price_df['price']+h/2))\n",
    "            - model.predict(price_df.assign(price=price_df['price']-h/2))) / h\n",
    "\n",
    "np.random.seed(123)\n",
    "prices_exog_pred = prices_exog.assign(**{\n",
    "    'ols_slope_pred': predict_marginal_effect(m1, prices_exog[X]),  # ols\n",
    "    'ml_slope_pred': predict_marginal_effect(m2, prices_exog[X]),  # gradient boosting regressor\n",
    "    'random_slope_pred': np.random.uniform(size=prices_exog.shape[0]),  # random model\n",
    "})\n",
    "prices_exog_pred.head()"
   ]
  },
  {
   "cell_type": "code",
   "execution_count": 37,
   "id": "e8db5642",
   "metadata": {},
   "outputs": [
    {
     "data": {
      "text/plain": [
       "<AxesSubplot:xlabel='ols_slope_pred', ylabel='Count'>"
      ]
     },
     "execution_count": 37,
     "metadata": {},
     "output_type": "execute_result"
    },
    {
     "data": {
      "image/png": "[encoded data removed]",
      "text/plain": [
       "<Figure size 432x288 with 1 Axes>"
      ]
     },
     "metadata": {
      "needs_background": "light"
     },
     "output_type": "display_data"
    }
   ],
   "source": [
    "sns.histplot(prices_exog_pred['ols_slope_pred'])"
   ]
  },
  {
   "cell_type": "code",
   "execution_count": 38,
   "id": "7883b7ec",
   "metadata": {},
   "outputs": [
    {
     "data": {
      "text/plain": [
       "<AxesSubplot:xlabel='ml_slope_pred', ylabel='Count'>"
      ]
     },
     "execution_count": 38,
     "metadata": {},
     "output_type": "execute_result"
    },
    {
     "data": {
      "image/png": "[encoded data removed]",
      "text/plain": [
       "<Figure size 432x288 with 1 Axes>"
      ]
     },
     "metadata": {
      "needs_background": "light"
     },
     "output_type": "display_data"
    }
   ],
   "source": [
    "sns.histplot(prices_exog_pred['ml_slope_pred'])"
   ]
  },
  {
   "cell_type": "markdown",
   "id": "436069a9",
   "metadata": {},
   "source": [
    "Already we see that it's not trivial to get marginal value predictions from the GBT, at least for single points $X$. If we set, e.g. `h=0.01` above, the regression model can still give us marginal effects, but the GBT will give us lots of 0 effect estimates, since we'll be gathering predictions at two nearby values of `price` between which there isn't a split."
   ]
  },
  {
   "cell_type": "code",
   "execution_count": null,
   "id": "9746a383",
   "metadata": {},
   "outputs": [],
   "source": []
  },
  {
   "cell_type": "markdown",
   "id": "e494ced2",
   "metadata": {},
   "source": [
    "# Misc Thoughts"
   ]
  },
  {
   "cell_type": "markdown",
   "id": "c592a664",
   "metadata": {},
   "source": [
    "Looking ahead in Ch. 19, Matheus suggests plotting cumulative elasticity curves. What this means is, we're going to collect the estimated elasticities by groups $x$, sort them into high-to-low groups, and then visually see how well-ordered they are. Additionally, we're going to look at how heterogeneous the treatment effects really are, which should give us insight into how much headroom we can actually get from personalization.\n",
    "\n",
    "However--not covered in Matheus's material--the fundamental model evaluation should still come from looking error in the predicted elasticities themselves. And in this case, we should try to get a test sample with exogenous variation and group them (and potentially orthogonalize the treatment variable) in order to obtain elasticity estimates."
   ]
  },
  {
   "cell_type": "code",
   "execution_count": null,
   "id": "e323d714",
   "metadata": {},
   "outputs": [],
   "source": []
  }
 ],
 "metadata": {
  "kernelspec": {
   "display_name": "Python 3 (ipykernel)",
   "language": "python",
   "name": "python3"
  },
  "language_info": {
   "codemirror_mode": {
    "name": "ipython",
    "version": 3
   },
   "file_extension": ".py",
   "mimetype": "text/x-python",
   "name": "python",
   "nbconvert_exporter": "python",
   "pygments_lexer": "ipython3",
   "version": "3.8.10"
  },
  "toc": {
   "base_numbering": 1,
   "nav_menu": {},
   "number_sections": true,
   "sideBar": true,
   "skip_h1_title": false,
   "title_cell": "Table of Contents",
   "title_sidebar": "Contents",
   "toc_cell": true,
   "toc_position": {},
   "toc_section_display": true,
   "toc_window_display": true
  }
 },
 "nbformat": 4,
 "nbformat_minor": 5
}
